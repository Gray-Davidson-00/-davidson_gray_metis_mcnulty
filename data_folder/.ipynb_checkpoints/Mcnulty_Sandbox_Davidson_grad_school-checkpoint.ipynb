{
 "cells": [
  {
   "cell_type": "code",
   "execution_count": 485,
   "metadata": {},
   "outputs": [],
   "source": [
    "import pandas as pd\n",
    "import csv\n",
    "import warnings\n",
    "\n",
    "from sklearn.preprocessing import scale\n",
    "from sklearn.model_selection import train_test_split\n",
    "from sklearn.neighbors import KNeighborsClassifier\n",
    "from sklearn import metrics\n",
    "from sklearn.model_selection import GridSearchCV\n",
    "from sklearn.pipeline import Pipeline\n",
    "from sklearn.preprocessing import Imputer\n",
    "from sklearn.preprocessing import StandardScaler\n",
    "from sklearn.neighbors import DistanceMetric\n",
    "from sklearn.linear_model import LogisticRegression\n",
    "from sklearn.metrics import accuracy_score\n",
    "from sklearn.svm import SVC\n",
    "from sklearn.metrics import classification_report\n",
    "from sklearn.decomposition import PCA\n",
    "from sklearn.decomposition import TruncatedSVD\n",
    "from sklearn.random_projection import sparse_random_matrix\n",
    "from sklearn.metrics import roc_curve\n",
    "from sklearn.metrics import auc\n",
    "from sklearn.cross_validation import cross_val_score\n",
    "from sklearn import naive_bayes\n",
    "\n",
    "from sklearn.tree import DecisionTreeClassifier\n",
    "from sklearn.ensemble import RandomForestClassifier\n",
    "\n",
    "\n",
    "# from tqdm import tqdm, tqdm_pandas\n",
    "# tqdm.pandas()\n",
    "\n",
    "import matplotlib.pyplot as plt\n"
   ]
  },
  {
   "cell_type": "code",
   "execution_count": 267,
   "metadata": {},
   "outputs": [],
   "source": [
    "# Frontmatter: \n",
    "grit_headers = 'header_renames.rtf'\n",
    "grit_data = 'data.csv'\n",
    "\n",
    "random_state = 42\n",
    "fig_size = (10, 7)\n",
    "\n",
    "\n",
    "pd.set_option('display.max_rows', 500)\n",
    "pd.set_option('display.max_columns', 500)"
   ]
  },
  {
   "cell_type": "code",
   "execution_count": 172,
   "metadata": {},
   "outputs": [],
   "source": [
    "def get_label_personality_grit_data(csv_path, headers_path):\n",
    "    \n",
    "    \"\"\"\n",
    "    Load dataset from file and reconfigure headers\n",
    "\n",
    "    :param csv_path: Path to the .csv file \n",
    "    :type csv_path: str\n",
    "\n",
    "    :param headers_path: Path to the .rtf file of headers for the dataframe \n",
    "    :type headers_path: str\n",
    "\n",
    "    :return: Returns a dataframe of the personality and grit and demographic data with columns labeled by the question which was asked.  \n",
    "    :rtype: pandas.core.frame.DataFrame\n",
    "    \"\"\"\n",
    "\n",
    "    df = pd.read_csv(csv_path,sep = \"\\t\")\n",
    "\n",
    "    # Some formatting of the headers file\n",
    "    with open(headers_path) as f:\n",
    "        rows = [line.split('\\t') for line in f]\n",
    "        headers_reformatted = { row[0]:row[-1] for row in rows }\n",
    "    headers_reformatted.update({i: headers_reformatted[i][:-2] for i in headers_reformatted})\n",
    "    \n",
    "    # Rename dataframe columns based on the headers file\n",
    "    df.rename(columns = headers_reformatted, inplace = True)\n",
    "\n",
    "    #df[\"country\"] = df[[\"country\",\"operatingsystem\",\"browser\"]].astype('category')\n",
    "    #df[\"operatingsystem\"] = df[\"operatingsystem\"].astype('category')\n",
    "    #df[\"browser\"] = df[\"browser\"].astype('category')\n",
    "\n",
    "    # If we wish to see an entire row of data we uncomment this. \n",
    "    '''\n",
    "    pd.set_option('display.max_columns', 500)\n",
    "    pd.set_option('display.max_rows', 500)\n",
    "    print (df.iloc[2])\n",
    "    '''\n",
    "    return df\n"
   ]
  },
  {
   "cell_type": "code",
   "execution_count": 173,
   "metadata": {
    "scrolled": true
   },
   "outputs": [],
   "source": [
    "def separate_data(data_frame, outcome_parameter):\n",
    "    \n",
    "    \"\"\"\n",
    "    Separates features from classifier, scales features, performs test/train split and returns split data\n",
    "\n",
    "    :param data_frame: The complete dataframe \n",
    "    :type csv_path: pandas.core.frame.DataFrame\n",
    "\n",
    "\n",
    "    :return: Returns dataframes of features for training and test, and corresponding classifier sets for training and test\n",
    "    :rtype: (DataFrame, DataFrame, Series, Series)\n",
    "    \"\"\"\n",
    "    \n",
    "    y = data_frame[outcome_parameter]\n",
    "    X = data_frame.drop(['religion',\"country\",\"operatingsystem\",\"browser\", 'surveyelapse',outcome_parameter], axis=1)\n",
    "    X = scale(X)\n",
    "    X_train, X_test, y_train, y_test = train_test_split(X, y, test_size=0.30, random_state=random_state)\n",
    "    return (X_train, X_test, y_train, y_test)"
   ]
  },
  {
   "cell_type": "code",
   "execution_count": 178,
   "metadata": {},
   "outputs": [],
   "source": [
    "def preprocessing(df = df):\n",
    "    \"\"\"\n",
    "    Takes in a dataframe of big-5 personality data, runs validity checks, aggregates participants' answers into personality and grit scores. \n",
    "    \n",
    "    :param df: Path to the .rtf file of headers for the dataframe \n",
    "    :type df: pandas.core.frame.DataFrame\n",
    "\n",
    "    :return: Returns a dataframe of the personality and grit and demographic with columns for the big5 personality types and for grit\n",
    "    :rtype: pandas.core.frame.DataFrame\n",
    "    \n",
    "    \"\"\"\n",
    "    df['validity_check'] = df.apply(lambda row: row.florted + row.verdid + row.cuivocal, axis=1)\n",
    "    df['language_check'] = df.apply(lambda row: row.boat + row.incoherent + row.pallid + row.robot + row.audible + row.paucity + row.epistemology + row.decide + row.pastiche + row.abysmal + row.lucid + row.betray + row.funn, axis=1)\n",
    "    df = df[df.validity_check < 2] # If the subjects messed up two of the validity measures then exclude their data from the dataset.  \n",
    "    df = df[df.language_check > 4] # If the subjects speak english very poorly (or got 0 because they weren't trying) then it may be worth excluding them as they likely didn't understand all the questions.  \n",
    "    df = df[df.surveyelapse < 2000] # If the subjects speak english very poorly (or got 0 because they weren't trying) then it may be worth excluding them as they likely didn't understand all the questions.  \n",
    "    df = df[df.age < 100] # There are a couple of subjects who claim to be 350 years old...we'll drop them too.    \n",
    "    df = df[df.hand > 0] # there are some subjects who failed to answer this question \n",
    "    df = df[df.gender > 0] # gender = 0 was not a survey option but 5 results show it...removing these.      \n",
    "    df = df[df.engnat > 0]       \n",
    "    df = df[df.urban > 0]       \n",
    "    df = df[df.married > 0]    \n",
    "    df = df[df.voted > 0]   \n",
    "    df = df[df.education > 0]     \n",
    "    df = df.drop(['validity_check','language_check'], axis=1)\n",
    "\n",
    "    # Separate out the categorical variables \n",
    "    dummies_df = pd.get_dummies(df['gender'])\n",
    "    dummies_df = dummies_df.rename(columns={1: 'Male', 2: 'Female', 3: 'Other'})\n",
    "    df = pd.concat([df, dummies_df], axis=1);\n",
    "    \n",
    "    dummies_df = pd.get_dummies(df['hand'])\n",
    "    dummies_df = dummies_df.rename(columns={1: 'Right', 2: 'Left', 3: 'Both'})\n",
    "    df = pd.concat([df, dummies_df], axis=1);\n",
    "    \n",
    "    df['orientation'] = df.apply(lambda row: 5 if row['orientation'] == 0 else row['orientation'],axis=1)\n",
    "    dummies_df = pd.get_dummies(df['orientation'])\n",
    "    dummies_df = dummies_df.rename(columns={1: 'Heterosexual', 2: 'Bisexual', 3: 'Homosexual', 4: 'Asexual', 5: 'Other'})\n",
    "    df = pd.concat([df, dummies_df], axis=1);\n",
    "    \n",
    "    df['religion'] = df.apply(lambda row: 12 if row['religion'] == 0 else row['religion'],axis=1)\n",
    "    dummies_df = pd.get_dummies(df['religion'])\n",
    "    dummies_df = dummies_df.rename(columns={1: 'Agnostic', 2: 'Atheist', 3: 'Buddhist', 4: 'Catholic', 5: 'Mormon', 6: 'Protestant', 7: 'Other Christian', 8: 'Hindu', 9: 'Jewish', 10: 'Muslim', 11: 'Sikh', 12: 'Other'})\n",
    "    df = pd.concat([df, dummies_df], axis=1);\n",
    "        \n",
    "    dummies_df = pd.get_dummies(df['urban'])\n",
    "    dummies_df = dummies_df.rename(columns={1: 'Rural', 2: 'Suburban', 3: 'Urban'})\n",
    "    df = pd.concat([df, dummies_df], axis=1);\n",
    "\n",
    "    dummies_df = pd.get_dummies(df['married'])\n",
    "    dummies_df = dummies_df.rename(columns={1: 'Never married', 2: 'Currently married', 3: 'Previously married'})\n",
    "    df = pd.concat([df, dummies_df], axis=1);\n",
    "\n",
    "    dummies_df = pd.get_dummies(df['voted'])\n",
    "    dummies_df = dummies_df.rename(columns={1: 'Voted_Yes', 2: 'Voted_No'})\n",
    "    df = pd.concat([df, dummies_df], axis=1);\n",
    "\n",
    "    df['race'] = df.apply(lambda row: 5 if row['race'] == 0 else row['race'],axis=1)\n",
    "    dummies_df = pd.get_dummies(df['race'])\n",
    "    dummies_df = dummies_df.rename(columns={1: 'Asian', 2: 'Arab', 3: 'Black', 4: 'Indigenous Australian, Native American or White', 5: 'Other'})\n",
    "    df = pd.concat([df, dummies_df], axis=1);\n",
    "    \n",
    "    dummies_df = pd.get_dummies(df['engnat'])\n",
    "    dummies_df = dummies_df.rename(columns={1: 'engnat_yes', 2: 'engnat_no'})\n",
    "    df = pd.concat([df, dummies_df], axis=1);\n",
    "    \n",
    "    \n",
    "    df = df.drop(['gender', 'hand', 'orientation', 'engnat', 'race', 'married', 'urban', 'religion'], axis=1)\n",
    "    \n",
    "    # Let's get all the likert scales centered at 0\n",
    "    likert_columns = [\n",
    "            # Grit\n",
    "           'I_have_overcome_setbacks_to_conquer_an_important_challenge_',\n",
    "           'New_ideas_and_projects_sometimes_distract_me_from_previous_ones',\n",
    "           'My_interests_change_from_year_to_year',\n",
    "           'Setbacks_dont_discourage_me',\n",
    "           'I_have_been_obsessed_with_a_certain_idea_or_project_for_a_short_time_but_later_lost_interest',\n",
    "           'I_am_a_hard_worker_',\n",
    "           'I_often_set_a_goal_but_later_choose_to_pursue_a_different_one',\n",
    "           'I_have_difficulty_maintaining_my_focus_on_projects_that_take_more_than_a_few_months_to_complete',\n",
    "           'I_finish_whatever_I_begin',\n",
    "           'I_have_achieved_a_goal_that_took_years_of_work',\n",
    "           'I_become_interested_in_new_pursuits_every_few_months', 'I_am_diligent',\n",
    "\n",
    "            # Extraversion\n",
    "           'I_am_the_life_of_the_party',\n",
    "           'I_dont_talk_a_lot', 'I_feel_comfortable_around_people',\n",
    "           'I_keep_in_the_background', 'I_start_conversations',\n",
    "           'I_have_little_to_say',\n",
    "           'I_talk_to_a_lot_of_different_people_at_parties',\n",
    "           'I_dont_like_to_draw_attention_to_myself',\n",
    "           'I_dont_mind_being_the_center_of_attention',\n",
    "           'I_am_quiet_around_strangers', \n",
    "\n",
    "            # Neuroticism\n",
    "            'I_get_stressed_out_easily',\n",
    "           'I_am_relaxed_most_of_the_time', 'I_worry_about_things',\n",
    "           'I_seldom_feel_blue', 'I_am_easily_disturbed', 'I_get_upset_easily',\n",
    "           'I_change_my_mood_a_lot', 'I_have_frequent_mood_swings',\n",
    "           'I_get_irritated_easily', 'I_often_feel_blue',\n",
    "\n",
    "            # Agreeableness\n",
    "           'I_feel_little_concern_for_others', 'I_am_interested_in_people',\n",
    "           'I_insult_people', 'I_sympathize_with_others_feelings',\n",
    "           'I_am_not_interested_in_other_peoples_problems', 'I_have_a_soft_heart',\n",
    "           'I_am_not_really_interested_in_others', 'I_take_time_out_for_others',\n",
    "           'I_feel_others_emotions', 'I_make_people_feel_at_ease',\n",
    "\n",
    "            # Conscientiousness\n",
    "           'I_am_always_prepared', 'I_leave_my_belongings_around',\n",
    "           'I_pay_attention_to_details', 'I_make_a_mess_of_things',\n",
    "           'I_get_chores_done_right_away',\n",
    "           'I_often_forget_to_put_things_back_in_their_proper_place',\n",
    "           'I_like_order', 'I_shirk_my_duties', 'I_follow_a_schedule',\n",
    "           'I_am_exacting_in_my_work', \n",
    "\n",
    "            # Openness\n",
    "            'I_have_a_rich_vocabulary',\n",
    "           'I_have_difficulty_understanding_abstract_ideas',\n",
    "           'I_have_a_vivid_imagination', 'I_am_not_interested_in_abstract_ideas',\n",
    "           'I_have_excellent_ideas', 'I_do_not_have_a_good_imagination',\n",
    "           'I_am_quick_to_understand_things', 'I_use_difficult_words',\n",
    "           'I_spend_time_reflecting_on_things', 'I_am_full_of_ideas',\n",
    "            ]\n",
    "\n",
    "    for column in likert_columns:\n",
    "        df[column] = df[column].apply(lambda x: x - 3) # We're zeroing out all the likert scale columns\n",
    "\n",
    "    # Code all the indiivdual factors in the big 5 and GRIT scales into their aggregate scores.  \n",
    "    df['Extroversion'] = df.apply(lambda row: (row.I_am_the_life_of_the_party\n",
    "                                  + row.I_feel_comfortable_around_people \n",
    "                                  - row.I_keep_in_the_background\n",
    "                                  + row.I_start_conversations\n",
    "                                  - row.I_have_little_to_say\n",
    "                                  + row.I_talk_to_a_lot_of_different_people_at_parties \n",
    "                                  - row.I_dont_like_to_draw_attention_to_myself\n",
    "                                  + row.I_dont_mind_being_the_center_of_attention\n",
    "                                  - row.I_am_quiet_around_strangers\n",
    "                                  - row.I_dont_talk_a_lot)/10,\n",
    "                                  axis=1)\n",
    "\n",
    "    df['Neuroticism'] = df.apply(lambda row: (row.I_get_stressed_out_easily\n",
    "                                  - row.I_am_relaxed_most_of_the_time \n",
    "                                  + row.I_worry_about_things\n",
    "                                  - row.I_seldom_feel_blue\n",
    "                                  + row.I_am_easily_disturbed\n",
    "                                  + row.I_get_upset_easily \n",
    "                                  + row.I_change_my_mood_a_lot\n",
    "                                  + row.I_have_frequent_mood_swings\n",
    "                                  + row.I_get_irritated_easily\n",
    "                                  + row.I_often_feel_blue)/10,\n",
    "                                  axis=1)        \n",
    "\n",
    "    df['Agreeableness'] = df.apply(lambda row: (row.I_am_interested_in_people\n",
    "                                  - row.I_feel_little_concern_for_others\n",
    "                                  - row.I_insult_people\n",
    "                                  + row.I_sympathize_with_others_feelings\n",
    "                                  - row.I_am_not_interested_in_other_peoples_problems\n",
    "                                  + row.I_have_a_soft_heart \n",
    "                                  - row.I_am_not_really_interested_in_others\n",
    "                                  + row.I_take_time_out_for_others\n",
    "                                  + row.I_feel_others_emotions\n",
    "                                  + row.I_make_people_feel_at_ease)/10,\n",
    "                                  axis=1)    \n",
    "\n",
    "    df['Conscientiousness'] = df.apply(lambda row: (row.I_am_always_prepared\n",
    "                                  - row.I_leave_my_belongings_around \n",
    "                                  + row.I_pay_attention_to_details\n",
    "                                  - row.I_make_a_mess_of_things\n",
    "                                  + row.I_get_chores_done_right_away\n",
    "                                  - row.I_often_forget_to_put_things_back_in_their_proper_place \n",
    "                                  + row.I_like_order\n",
    "                                  - row.I_shirk_my_duties\n",
    "                                  + row.I_follow_a_schedule\n",
    "                                  + row.I_am_exacting_in_my_work)/10,\n",
    "                                  axis=1)\n",
    "\n",
    "    df['Openness'] = df.apply(lambda row: (row.I_have_a_rich_vocabulary\n",
    "                                  - row.I_have_difficulty_understanding_abstract_ideas \n",
    "                                  + row.I_have_a_vivid_imagination\n",
    "                                  - row.I_am_not_interested_in_abstract_ideas\n",
    "                                  + row.I_have_excellent_ideas\n",
    "                                  - row.I_do_not_have_a_good_imagination \n",
    "                                  + row.I_am_quick_to_understand_things\n",
    "                                  + row.I_use_difficult_words\n",
    "                                  + row.I_spend_time_reflecting_on_things\n",
    "                                  + row.I_am_full_of_ideas)/10,\n",
    "                                  axis=1)\n",
    "\n",
    "    df['Grit'] = df.apply(lambda row: (row.I_have_overcome_setbacks_to_conquer_an_important_challenge_\n",
    "                                  - row.New_ideas_and_projects_sometimes_distract_me_from_previous_ones \n",
    "                                  - row.My_interests_change_from_year_to_year\n",
    "                                  + row.Setbacks_dont_discourage_me\n",
    "                                  + row.I_am_a_hard_worker_\n",
    "                                  - row.I_often_set_a_goal_but_later_choose_to_pursue_a_different_one \n",
    "                                  - row.I_have_difficulty_maintaining_my_focus_on_projects_that_take_more_than_a_few_months_to_complete\n",
    "                                  + row.I_finish_whatever_I_begin\n",
    "                                  + row.I_have_achieved_a_goal_that_took_years_of_work\n",
    "                                  - row.I_become_interested_in_new_pursuits_every_few_months\n",
    "                                  - row.I_have_been_obsessed_with_a_certain_idea_or_project_for_a_short_time_but_later_lost_interest\n",
    "                                  + row.I_am_diligent\n",
    "                                    )/10,\n",
    "                                  axis=1)\n",
    "\n",
    "\n",
    "    return df"
   ]
  },
  {
   "cell_type": "code",
   "execution_count": 179,
   "metadata": {},
   "outputs": [],
   "source": [
    "def apply_PCA_LSA(X_train = X_train):\n",
    "\n",
    "    pca = PCA(n_components=12)\n",
    "    pca.fit(X_train)\n",
    "    # PCA(copy=True, iterated_power='auto', n_components=12, random_state=None,\n",
    "    #   svd_solver='auto', tol=0.0, whiten=False)\n",
    "    print(f\"explained variance ratio: {pca.explained_variance_ratio_}\")  \n",
    "    print(f\"singular values: {pca.singular_values_}\")  \n",
    "    print(f\"Components: {pca.components_}\")  \n",
    "\n",
    "    svd = TruncatedSVD(n_components=5, n_iter=7, random_state=42)\n",
    "    svd.fit(X_train)  \n",
    "    # TruncatedSVD(algorithm='randomized', n_components=5, n_iter=7,\n",
    "    #         random_state=42, tol=0.0)\n",
    "    print(f\"explained variance ratio: {pca.explained_variance_ratio_}\")  \n",
    "    print(f\"explained variance ratio: {svd.explained_variance_ratio_.sum()}\")  \n",
    "    print(f\"singular values: {svd.singular_values_}\")  "
   ]
  },
  {
   "cell_type": "code",
   "execution_count": 260,
   "metadata": {},
   "outputs": [],
   "source": [
    "def make_classifier_binary (df = df):\n",
    "    df['education'] = df.apply(lambda row: 1 if row['education'] == 1 else row['education'],axis=1)\n",
    "    df['education'] = df.apply(lambda row: 1 if row['education'] == 2 else row['education'],axis=1)\n",
    "    df['education'] = df.apply(lambda row: 3 if row['education'] == 3 else row['education'],axis=1)\n",
    "    df['education'] = df.apply(lambda row: 3 if row['education'] == 4 else row['education'],axis=1)\n",
    "    return df"
   ]
  },
  {
   "cell_type": "code",
   "execution_count": 174,
   "metadata": {},
   "outputs": [],
   "source": [
    "def logistic_regression_multiclass(X_train = X_train, y_train = y_train, X_test = X_test, y_test = y_test):\n",
    "    lr_regularization = LogisticRegression()\n",
    "\n",
    "    lr_regularization.fit(X_train, y_train);\n",
    "    y_pred_lr = lr_regularization.predict(X_test)\n",
    "    y_score_lr = lr_regularization.decision_function(X_test)\n",
    "\n",
    "    warnings.filterwarnings(\"ignore\", category=DeprecationWarning)\n",
    "\n",
    "\n",
    "    print(\"Logistic Regression:\")\n",
    "    print(\"Accuracy Score: \" + str(accuracy_score(y_test, y_pred_lr)))\n",
    "    #print(\"Precision Score: \" + str(metrics.precision_score(y_test, y_pred, average='weighted')))\n",
    "    #print(\"Recall Score: \" + str(metrics.recall_score(y_test, y_pred, average='weighted')))\n",
    "    #print(\"F1 Score: \" + str(metrics.f1_score(y_test, y_pred, average='weighted')))\n",
    "\n",
    "    target_names = ['Less than high school', 'High school', 'University degree', 'Graduate degree']\n",
    "    print(classification_report(y_test, y_pred_lr, target_names=target_names))\n",
    "    return y_score_lr, y_pred"
   ]
  },
  {
   "cell_type": "code",
   "execution_count": 299,
   "metadata": {},
   "outputs": [],
   "source": [
    "def logistic_regression_binary(X_train = X_train, y_train = y_train, X_test = X_test, y_test = y_test):\n",
    "    lr_regularization = LogisticRegression()\n",
    "\n",
    "    lr_regularization.fit(X_train, y_train);\n",
    "    y_pred_lr = lr_regularization.predict(X_test)\n",
    "    y_score_lr = lr_regularization.decision_function(X_test)\n",
    "\n",
    "    warnings.filterwarnings(\"ignore\", category=DeprecationWarning)\n",
    "\n",
    "\n",
    "    print(\"Logistic Regression:\")\n",
    "    #print(\"Accuracy Score: \" + str(accuracy_score(y_test, y_pred_lr)))\n",
    "    print(f\"Cross Validated Accuracy Score: {cross_val_score(lr_regularization, X_train, y_train, cv=4, scoring='accuracy').mean()}\")\n",
    "    #print(\"Precision Score: \" + str(metrics.precision_score(y_test, y_pred, average='weighted')))\n",
    "    #print(\"Recall Score: \" + str(metrics.recall_score(y_test, y_pred, average='weighted')))\n",
    "    #print(\"F1 Score: \" + str(metrics.f1_score(y_test, y_pred, average='weighted')))\n",
    "\n",
    "    target_names_binary = ['High school or less', 'University or Graduate degree']\n",
    "    print(classification_report(y_test, y_pred_lr, target_names=target_names_binary))\n",
    "    return y_score_lr, y_pred_lr"
   ]
  },
  {
   "cell_type": "code",
   "execution_count": 391,
   "metadata": {},
   "outputs": [],
   "source": [
    "def svm_multiclass (X_train = X_train, y_train = y_train, X_test = X_test, y_test = y_test):\n",
    "    svm = SVC(probability = True)\n",
    "    svm.fit(X_train, y_train)\n",
    "    y_pred_svm = svm.predict(X_test)    \n",
    "    #y_score_svm = svm.libsvm.predict_proba(X_test)\n",
    "    warnings.filterwarnings(\"ignore\", category=DeprecationWarning)\n",
    "\n",
    "\n",
    "    print(\"Support Vector Classifier:\")\n",
    "    print(\"Accuracy Score: \" + str(accuracy_score(y_test, y_pred_svm)))\n",
    "    #print(\"Precision Score: \" + str(metrics.precision_score(y_test, y_pred, average='weighted')))\n",
    "    #print(\"Recall Score: \" + str(metrics.recall_score(y_test, y_pred, average='weighted')))\n",
    "    #print(\"F1 Score: \" + str(metrics.f1_score(y_test, y_pred, average='weighted')))\n",
    "\n",
    "    target_names = ['Less than high school', 'High school', 'University degree', 'Graduate degree']\n",
    "    print(classification_report(y_test, y_pred_svm, target_names=target_names))\n",
    "    return y_pred_svm"
   ]
  },
  {
   "cell_type": "code",
   "execution_count": 399,
   "metadata": {},
   "outputs": [],
   "source": [
    "def svm_binary (X_train = X_train, y_train = y_train, X_test = X_test, y_test = y_test):\n",
    "    svm = SVC(probability = True)\n",
    "    svm.fit(X_train, y_train)\n",
    "    y_pred_svm = svm.predict(X_test)    \n",
    "#    y_score_svm = svm.libsvm.predict_proba(X_test)\n",
    "#    y_score_svm = svm.predict_proba(X_test)\n",
    "    y_score_svm = svm.decision_function(X_test)\n",
    "    warnings.filterwarnings(\"ignore\", category=DeprecationWarning)\n",
    "\n",
    "\n",
    "    print(\"Support Vector Classifier:\")\n",
    "    print(f\"Cross Validated Accuracy Score: {cross_val_score(svm, X_train, y_train, cv=4, scoring='accuracy').mean()}\")\n",
    "    #print(\"Accuracy Score: \" + str(accuracy_score(y_test, y_pred_svm)))\n",
    "    #print(\"Precision Score: \" + str(metrics.precision_score(y_test, y_pred, average='weighted')))\n",
    "    #print(\"Recall Score: \" + str(metrics.recall_score(y_test, y_pred, average='weighted')))\n",
    "    #print(\"F1 Score: \" + str(metrics.f1_score(y_test, y_pred, average='weighted')))\n",
    "\n",
    "    target_names_binary = ['High school or less', 'University or Graduate degree']\n",
    "    print(classification_report(y_test, y_pred_svm, target_names=target_names_binary))\n",
    "    return y_score_svm, y_pred_svm"
   ]
  },
  {
   "cell_type": "code",
   "execution_count": 420,
   "metadata": {},
   "outputs": [],
   "source": [
    "def knn_multiclass(X_train = X_train, y_train = y_train, X_test = X_test, y_test = y_test):\n",
    "    # k_range = list(range(1, 5))\n",
    "#     k_range = [1,10, 100, 1000]\n",
    "\n",
    "#     knn = KNeighborsClassifier()\n",
    "\n",
    "#     param_grid = dict(n_neighbors=k_range)\n",
    "#     grid = GridSearchCV(knn, param_grid, cv=4, scoring='accuracy', n_jobs = -1)\n",
    "\n",
    "\n",
    "#     grid.fit(X_train, y_train);\n",
    "    knn = KNeighborsClassifier(n_neighbors=29)\n",
    "    knn.fit(X_train, y_train)\n",
    "\n",
    "\n",
    "    y_pred = knn.predict(X_test)\n",
    "    y_score_knn = knn.predict_proba(X_test)\n",
    "#     y_pred = grid.predict(X_test)\n",
    "#     y_score_knn = grid.predict_proba(X_test)\n",
    "\n",
    "\n",
    "    warnings.filterwarnings(\"ignore\", category=DeprecationWarning)\n",
    "\n",
    "\n",
    "    grid.grid_scores_\n",
    "\n",
    "\n",
    "    #print(\"Best Score: \" + str(grid.best_score_))\n",
    "    print(\"Best Parameters: \" + str(grid.best_params_))\n",
    "\n",
    "\n",
    "\n",
    "    print(\"K Nearest Neighbors:\")\n",
    "    print(\"Accuracy Score: \" + str(accuracy_score(y_test, y_pred_knn)))\n",
    "    #print(\"Precision Score: \" + str(metrics.precision_score(y_test, y_pred, average='weighted')))\n",
    "    #print(\"Recall Score: \" + str(metrics.recall_score(y_test, y_pred, average='weighted')))\n",
    "    #print(\"F1 Score: \" + str(metrics.f1_score(y_test, y_pred, average='weighted')))\n",
    "\n",
    "    target_names = ['Less than high school', 'High school', 'University degree', 'Graduate degree']\n",
    "    print(classification_report(y_test, y_pred_knn, target_names=target_names))\n",
    "    return y_pred_knn, y_score_knn\n"
   ]
  },
  {
   "cell_type": "code",
   "execution_count": 418,
   "metadata": {},
   "outputs": [],
   "source": [
    "def knn_binary(X_train = X_train, y_train = y_train, X_test = X_test, y_test = y_test):\n",
    "    #k_range = [-100, -10, 1, 10, 100, 1000] >> 100\n",
    "    #k_range = [50, 100, 200] >> 50\n",
    "    #k_range = [20, 30, 40, 50, 60, 70, 80] >> 30\n",
    "    #k_range = list(range(25, 35)) >> 29    \n",
    "    k_range = [29]\n",
    "    param_grid = dict(n_neighbors=k_range)\n",
    "\n",
    "    \n",
    "    knn = KNeighborsClassifier()\n",
    "    grid = GridSearchCV(knn, param_grid, cv=4, scoring='accuracy', n_jobs = -1)\n",
    "    grid.fit(X_train, y_train);\n",
    "    \n",
    "    y_pred_knn = grid.predict(X_test)\n",
    "    y_score_knn = grid.predict_proba(X_test)\n",
    "    #y_score_knn = grid.decision_function(X_test)\n",
    "\n",
    "\n",
    "    warnings.filterwarnings(\"ignore\", category=DeprecationWarning)\n",
    "    grid.grid_scores_\n",
    "\n",
    "    print(\"K Nearest Neighbors:\")\n",
    "    print(\"Best Parameters: \" + str(grid.best_params_))\n",
    "    print(f\"Cross Validated Accuracy Score: {cross_val_score(knn, X_train, y_train, cv=4, scoring='accuracy').mean()}\")\n",
    "\n",
    "    target_names_binary = ['High school or less', 'University or Graduate degree']\n",
    "    print(classification_report(y_test, y_pred_knn, target_names=target_names_binary))\n",
    "    return y_score_knn, y_pred_knn"
   ]
  },
  {
   "cell_type": "code",
   "execution_count": 468,
   "metadata": {},
   "outputs": [],
   "source": [
    "# Naive Bayes\n",
    "def naive_bayes_binary(X_train = X_train, y_train = y_train, X_test = X_test, y_test = y_test):\n",
    "    \n",
    "    nb = naive_bayes.GaussianNB()\n",
    "    nb.fit(X_train, y_train)\n",
    "        \n",
    "    y_pred_nb = nb.predict(X_test)\n",
    "    y_score_nb = nb.predict_proba(X_test)\n",
    "    print(\"Naive Bayes:\")\n",
    "    print(\"Accuracy: %.3f\"% accuracy_score(y_test, nb.predict(X_test)))\n",
    "    target_names_binary = ['High school or less', 'University or Graduate degree']\n",
    "    print(classification_report(y_test, y_pred_nb, target_names=target_names_binary))\n",
    "    return y_score_nb, y_pred_nb"
   ]
  },
  {
   "cell_type": "code",
   "execution_count": 543,
   "metadata": {},
   "outputs": [],
   "source": [
    "\n",
    "    \n",
    "def decision_trees_classifier(X_train = X_train, y_train = y_train, X_test = X_test, y_test = y_test):\n",
    "\n",
    "    min_samp_split_range = [2, 4, 6, 8, 10]\n",
    "    max_depth_range = [2, 3, 5, 7, 10, 15, 20, 40]\n",
    "    min_samples_leaf_range = [2, 4, 6, 8, 10]\n",
    "\n",
    "    param_grid = dict(min_samples_split=min_samp_split_range, \n",
    "                         max_depth=max_depth_range, \n",
    "                         min_samples_leaf=min_samples_leaf_range)\n",
    "    dt = tree.DecisionTreeClassifier()\n",
    "    dtrmodel = GridSearchCV(dt, param_grid, cv=4, scoring='accuracy', n_jobs=-1)\n",
    "    dtrmodel.fit(X_train,y_train)\n",
    "\n",
    "    y_pred_dt = dtrmodel.predict(X_test)\n",
    "    y_score_dt = dtrmodel.predict_proba(X_test)\n",
    "\n",
    "    print(\"Decision Tree:\")\n",
    "    print(\"Best Parameters: \" + str(dtrmodel.best_params_))\n",
    "    print(\"Accuracy: %.3f\"% accuracy_score(y_test, y_pred_dt))\n",
    "    target_names_binary = ['High school or less', 'University or Graduate degree']\n",
    "    print(classification_report(y_test, y_pred_dt, target_names=target_names_binary))\n",
    "    return y_score_dt, y_pred_dt"
   ]
  },
  {
   "cell_type": "code",
   "execution_count": 549,
   "metadata": {},
   "outputs": [],
   "source": [
    "def random_forest_classifier(X_train = X_train, y_train = y_train, X_test = X_test, y_test = y_test):\n",
    "    \n",
    "    n_estimators_range = [10, 100, 500, 1000, 1500, 2000, 10000]\n",
    "    max_features_range = [2, 3, 5, 7, 10, 15, 20, 40]\n",
    "    min_samples_leaf_range = [2, 4, 6, 8, 10]\n",
    "\n",
    "\n",
    "    \n",
    "    param_grid = dict(n_estimators=n_estimators_range, \n",
    "                         max_features=max_features_range, \n",
    "                         min_samples_leaf=min_samples_leaf_range)\n",
    "\n",
    "    random_forest = RandomForestClassifier()\n",
    "    rf = GridSearchCV(random_forest, param_grid, cv=4, scoring='accuracy', n_jobs=-1)\n",
    "    rf.fit(X_train,y_train)\n",
    "\n",
    "    y_pred_rf = rf.predict(X_test)\n",
    "    y_score_rf = rf.predict_proba(X_test)\n",
    "\n",
    "    print(\"Random Forest:\")\n",
    "    print(\"Best Parameters: \" + str(rf.best_params_))\n",
    "    print(\"Accuracy: %.3f\"% accuracy_score(y_test, y_pred_rf))\n",
    "    target_names_binary = ['High school or less', 'University or Graduate degree']\n",
    "    print(classification_report(y_test, y_pred_rf, target_names=target_names_binary))\n",
    "    return y_score_rf, y_pred_rf"
   ]
  },
  {
   "cell_type": "code",
   "execution_count": 521,
   "metadata": {},
   "outputs": [],
   "source": [
    "def random_forest_classifier1(X_train = X_train, y_train = y_train, X_test = X_test, y_test = y_test):\n",
    "    \n",
    "    rf = RandomForestClassifier(n_estimators = 500, min_samples_leaf=5, max_features=4, n_jobs=-1)\n",
    "    rf.fit(X_train,y_train)\n",
    "\n",
    "    y_pred_rf = rf.predict(X_test)\n",
    "    y_score_rf = rf.predict_proba(X_test)\n",
    "\n",
    "    print(\"Random Forest:\")\n",
    "    print(\"Accuracy: %.3f\"% accuracy_score(y_test, y_pred_rf))\n",
    "    target_names_binary = ['High school or less', 'University or Graduate degree']\n",
    "    print(classification_report(y_test, y_pred_rf, target_names=target_names_binary))\n",
    "    return y_score_rf, y_pred_rf"
   ]
  },
  {
   "cell_type": "code",
   "execution_count": 512,
   "metadata": {},
   "outputs": [],
   "source": [
    "def ROC_curve (y_score_lr, y_score_knn, y_score_svm, y_score_nb, y_score_dt, y_score_rf):\n",
    "    plt.figure()\n",
    "    fig_size = (20, 7)\n",
    "    lw = 2\n",
    "    plt.xlim([0.0, 1.0])\n",
    "    plt.ylim([0.0, 1.05])\n",
    "    plt.xlabel('False Positive Rate')\n",
    "    plt.ylabel('True Positive Rate')\n",
    "    plt.title('ROC curve Comparison')\n",
    "\n",
    "\n",
    "    fpr, tpr, thresh = metrics.roc_curve(y_test, y_score_lr, pos_label=1)\n",
    "    auc_lr = metrics.roc_auc_score(y_test, y_score_lr)\n",
    "    plt.plot(fpr,tpr,label=\"Logistic Regression, auc=\"+str(auc_lr))\n",
    "\n",
    "    fpr, tpr, thresh = metrics.roc_curve(y_test, y_score_knn, pos_label=1)\n",
    "    auc_knn = metrics.roc_auc_score(y_test, y_score_knn)\n",
    "    plt.plot(fpr,tpr,label=\"K Nearest Neighbors, auc=\"+str(auc_knn))\n",
    "    \n",
    "    fpr, tpr, thresh = metrics.roc_curve(y_test, y_score_svm, pos_label=1)\n",
    "    auc_svm = metrics.roc_auc_score(y_test, y_score_svm)\n",
    "    plt.plot(fpr,tpr,label=\"Support Vector Classifier, auc=\"+str(auc_svm))\n",
    "\n",
    "    fpr, tpr, thresh = metrics.roc_curve(y_test, y_score_nb, pos_label=1)\n",
    "    auc_nb = metrics.roc_auc_score(y_test, y_score_nb)\n",
    "    plt.plot(fpr,tpr,label=\"Gaussian Naive Bayes, auc=\"+str(auc_nb))\n",
    "    \n",
    "    fpr, tpr, thresh = metrics.roc_curve(y_test, y_score_dt, pos_label=1)\n",
    "    auc_dt = metrics.roc_auc_score(y_test, y_score_dt)\n",
    "    plt.plot(fpr,tpr,label=\"Decision Tree Classifier, auc=\"+str(auc_dt))\n",
    "\n",
    "    fpr, tpr, thresh = metrics.roc_curve(y_test, y_score_rf, pos_label=1)\n",
    "    auc_rf = metrics.roc_auc_score(y_test, y_score_rf)\n",
    "    plt.plot(fpr,tpr,label=\"Random Forest Classifier, auc=\"+str(auc_rf))\n",
    "    \n",
    "    plt.plot([0, 1], [0, 1], color='navy', lw=lw, linestyle='--', label = \"chance\")\n",
    "    plt.legend(loc=0);        "
   ]
  },
  {
   "cell_type": "code",
   "execution_count": 259,
   "metadata": {},
   "outputs": [],
   "source": [
    "df = get_label_personality_grit_data(grit_data,grit_headers)\n",
    "df = preprocessing(df)\n",
    "df = make_classifier_binary(df)\n",
    "X_train, X_test, y_train, y_test = separate_data(df, 'education')\n",
    "#apply_PCA_LSA(X_train)"
   ]
  },
  {
   "cell_type": "code",
   "execution_count": 412,
   "metadata": {},
   "outputs": [
    {
     "name": "stdout",
     "output_type": "stream",
     "text": [
      "Logistic Regression:\n",
      "Cross Validated Accuracy Score: 0.7724375344692761\n",
      "                               precision    recall  f1-score   support\n",
      "\n",
      "          High school or less       0.79      0.84      0.81       629\n",
      "University or Graduate degree       0.75      0.68      0.71       441\n",
      "\n",
      "                  avg / total       0.77      0.77      0.77      1070\n",
      "\n"
     ]
    }
   ],
   "source": [
    "y_score_lr, y_pred_lr = logistic_regression_binary()"
   ]
  },
  {
   "cell_type": "code",
   "execution_count": 440,
   "metadata": {
    "scrolled": true
   },
   "outputs": [
    {
     "name": "stdout",
     "output_type": "stream",
     "text": [
      "K Nearest Neighbors:\n",
      "Best Parameters: {'n_neighbors': 29}\n",
      "Cross Validated Accuracy Score: 0.679495115652138\n",
      "                               precision    recall  f1-score   support\n",
      "\n",
      "          High school or less       0.73      0.87      0.80       629\n",
      "University or Graduate degree       0.75      0.55      0.63       441\n",
      "\n",
      "                  avg / total       0.74      0.74      0.73      1070\n",
      "\n"
     ]
    }
   ],
   "source": [
    "y_score_knn, y_pred_knn = knn_binary()\n",
    "y_score_knn_half = [item[1] for item in y_score_knn]\n"
   ]
  },
  {
   "cell_type": "code",
   "execution_count": 402,
   "metadata": {},
   "outputs": [
    {
     "name": "stdout",
     "output_type": "stream",
     "text": [
      "Support Vector Classifier:\n",
      "Cross Validated Accuracy Score: 0.7608060933448573\n",
      "                               precision    recall  f1-score   support\n",
      "\n",
      "          High school or less       0.78      0.84      0.81       629\n",
      "University or Graduate degree       0.75      0.67      0.71       441\n",
      "\n",
      "                  avg / total       0.77      0.77      0.77      1070\n",
      "\n"
     ]
    }
   ],
   "source": [
    "y_score_svm, y_pred_svm  = svm_binary()"
   ]
  },
  {
   "cell_type": "code",
   "execution_count": 472,
   "metadata": {},
   "outputs": [
    {
     "name": "stdout",
     "output_type": "stream",
     "text": [
      "Naive Bayes:\n",
      "Accuracy: 0.560\n",
      "                               precision    recall  f1-score   support\n",
      "\n",
      "          High school or less       0.83      0.31      0.46       629\n",
      "University or Graduate degree       0.48      0.91      0.63       441\n",
      "\n",
      "                  avg / total       0.69      0.56      0.53      1070\n",
      "\n"
     ]
    }
   ],
   "source": [
    "y_score_nb, y_pred_nb = naive_bayes_binary()\n",
    "y_score_nb_half = [item[1] for item in y_score_nb]\n"
   ]
  },
  {
   "cell_type": "code",
   "execution_count": 541,
   "metadata": {},
   "outputs": [
    {
     "name": "stdout",
     "output_type": "stream",
     "text": [
      "Decision Tree:\n",
      "Best Parameters: {'max_depth': 2, 'min_samples_leaf': 2, 'min_samples_split': 2}\n",
      "Accuracy: 0.807\n",
      "                               precision    recall  f1-score   support\n",
      "\n",
      "          High school or less       0.94      0.72      0.81       629\n",
      "University or Graduate degree       0.70      0.93      0.80       441\n",
      "\n",
      "                  avg / total       0.84      0.81      0.81      1070\n",
      "\n"
     ]
    }
   ],
   "source": [
    "y_score_dt, y_pred_dt = decision_trees_classifier()\n",
    "y_score_dt_half = [item[1] for item in y_score_dt]"
   ]
  },
  {
   "cell_type": "code",
   "execution_count": 547,
   "metadata": {},
   "outputs": [
    {
     "name": "stdout",
     "output_type": "stream",
     "text": [
      "Random Forest:\n",
      "Accuracy: 0.821\n",
      "                               precision    recall  f1-score   support\n",
      "\n",
      "          High school or less       0.89      0.79      0.84       629\n",
      "University or Graduate degree       0.74      0.86      0.80       441\n",
      "\n",
      "                  avg / total       0.83      0.82      0.82      1070\n",
      "\n"
     ]
    }
   ],
   "source": [
    "y_score_rf, y_pred_rf = random_forest_classifier()\n",
    "y_score_rf_half = [item[1] for item in y_score_rf]"
   ]
  },
  {
   "cell_type": "code",
   "execution_count": 548,
   "metadata": {},
   "outputs": [
    {
     "data": {
      "image/png": "[encoded data removed]",
      "text/plain": [
       "<matplotlib.figure.Figure at 0x1a283c0dd8>"
      ]
     },
     "metadata": {},
     "output_type": "display_data"
    }
   ],
   "source": [
    "ROC_curve(y_score_lr, y_score_knn_half, y_score_svm, y_score_nb_half, y_score_dt_half, y_score_rf_half)"
   ]
  },
  {
   "cell_type": "code",
   "execution_count": 12,
   "metadata": {},
   "outputs": [
    {
     "data": {
      "text/plain": [
       "<matplotlib.collections.PathCollection at 0x1a15e2ddd8>"
      ]
     },
     "execution_count": 12,
     "metadata": {},
     "output_type": "execute_result"
    },
    {
     "data": {
      "image/png": "[encoded data removed]",
      "text/plain": [
       "<matplotlib.figure.Figure at 0x10e340198>"
      ]
     },
     "metadata": {},
     "output_type": "display_data"
    }
   ],
   "source": [
    "plt.scatter(df.Grit, df.Conscientiousness)"
   ]
  },
  {
   "cell_type": "code",
   "execution_count": null,
   "metadata": {},
   "outputs": [],
   "source": []
  },
  {
   "cell_type": "code",
   "execution_count": 11,
   "metadata": {},
   "outputs": [
    {
     "data": {
      "text/plain": [
       "<matplotlib.collections.PathCollection at 0x10e326ef0>"
      ]
     },
     "execution_count": 11,
     "metadata": {},
     "output_type": "execute_result"
    },
    {
     "data": {
      "image/png": "[encoded data removed]",
      "text/plain": [
       "<matplotlib.figure.Figure at 0x1a153da438>"
      ]
     },
     "metadata": {},
     "output_type": "display_data"
    }
   ],
   "source": [
    "plt.scatter(df.Grit, df.age)"
   ]
  },
  {
   "cell_type": "code",
   "execution_count": 13,
   "metadata": {},
   "outputs": [
    {
     "data": {
      "text/plain": [
       "(array([ 40., 279., 561., 620., 752., 659., 442., 250.,  89.,  17.]),\n",
       " array([-2.4 , -1.93, -1.46, -0.99, -0.52, -0.05,  0.42,  0.89,  1.36,\n",
       "         1.83,  2.3 ]),\n",
       " <a list of 10 Patch objects>)"
      ]
     },
     "execution_count": 13,
     "metadata": {},
     "output_type": "execute_result"
    },
    {
     "data": {
      "image/png": "[encoded data removed]",
      "text/plain": [
       "<matplotlib.figure.Figure at 0x1a15e12668>"
      ]
     },
     "metadata": {},
     "output_type": "display_data"
    }
   ],
   "source": [
    "plt.hist(df.Grit)"
   ]
  },
  {
   "cell_type": "code",
   "execution_count": null,
   "metadata": {},
   "outputs": [],
   "source": []
  },
  {
   "cell_type": "code",
   "execution_count": 124,
   "metadata": {},
   "outputs": [],
   "source": []
  },
  {
   "cell_type": "code",
   "execution_count": null,
   "metadata": {},
   "outputs": [],
   "source": []
  },
  {
   "cell_type": "code",
   "execution_count": null,
   "metadata": {},
   "outputs": [],
   "source": []
  },
  {
   "cell_type": "code",
   "execution_count": null,
   "metadata": {},
   "outputs": [],
   "source": []
  },
  {
   "cell_type": "code",
   "execution_count": null,
   "metadata": {},
   "outputs": [],
   "source": []
  },
  {
   "cell_type": "code",
   "execution_count": null,
   "metadata": {},
   "outputs": [],
   "source": []
  },
  {
   "cell_type": "code",
   "execution_count": null,
   "metadata": {},
   "outputs": [],
   "source": []
  }
 ],
 "metadata": {
  "kernelspec": {
   "display_name": "Python 3",
   "language": "python",
   "name": "python3"
  },
  "language_info": {
   "codemirror_mode": {
    "name": "ipython",
    "version": 3
   },
   "file_extension": ".py",
   "mimetype": "text/x-python",
   "name": "python",
   "nbconvert_exporter": "python",
   "pygments_lexer": "ipython3",
   "version": "3.6.4"
  }
 },
 "nbformat": 4,
 "nbformat_minor": 2
}
